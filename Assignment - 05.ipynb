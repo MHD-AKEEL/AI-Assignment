{
 "cells": [
  {
   "cell_type": "code",
   "execution_count": 10,
   "id": "727a2a37-f538-4fe0-862d-0be7a31036be",
   "metadata": {},
   "outputs": [],
   "source": [
    "# Create a class and function, and list out the items in the list\n",
    "\n",
    "class SubfieldsInAI:\n",
    "    def Subfields():\n",
    "        subfields = [\"Machine Learning\",\"Neural Networks\",\"Vision\",\"Robotics\",\"Speech Processing\",\"Natural Language Processing\"]\n",
    "        \n",
    "        print(\"Sub-fields in AI are:\")\n",
    "        for field in subfields:\n",
    "            print(field)"
   ]
  },
  {
   "cell_type": "code",
   "execution_count": 11,
   "id": "8a0e8a0f-a1d8-478e-bff4-f1c6ee6089ed",
   "metadata": {},
   "outputs": [
    {
     "name": "stdout",
     "output_type": "stream",
     "text": [
      "Sub-fields in AI are:\n",
      "Machine Learning\n",
      "Neural Networks\n",
      "Vision\n",
      "Robotics\n",
      "Speech Processing\n",
      "Natural Language Processing\n"
     ]
    }
   ],
   "source": [
    "SubfieldsInAI.Subfields()"
   ]
  },
  {
   "cell_type": "code",
   "execution_count": 14,
   "id": "e2bc10f2-709b-4a49-819b-035acf62be42",
   "metadata": {},
   "outputs": [
    {
     "name": "stdin",
     "output_type": "stream",
     "text": [
      "Enter a Number: 50\n"
     ]
    }
   ],
   "source": [
    "# Create a function that checks whether the given number is Odd or Even\n",
    "\n",
    "class OddEven:\n",
    "    def oddeven(number):\n",
    "        if number % 2 == 0:\n",
    "            print(number,\"is an Even number\")\n",
    "            return number\n",
    "        else:\n",
    "            print(number,\"is an Odd number\")\n",
    "            return number\n",
    "            \n",
    "result=int(input(\"Enter a Number:\")) "
   ]
  },
  {
   "cell_type": "code",
   "execution_count": 15,
   "id": "afeeb5b8-35f0-41f1-aa79-09b54840bc24",
   "metadata": {},
   "outputs": [
    {
     "name": "stdout",
     "output_type": "stream",
     "text": [
      "50 is an Even number\n"
     ]
    },
    {
     "data": {
      "text/plain": [
       "50"
      ]
     },
     "execution_count": 15,
     "metadata": {},
     "output_type": "execute_result"
    }
   ],
   "source": [
    "OddEven.oddeven(result)"
   ]
  },
  {
   "cell_type": "code",
   "execution_count": 7,
   "id": "7d1a8270-efab-42f5-8252-f0374e0151a6",
   "metadata": {},
   "outputs": [
    {
     "name": "stdin",
     "output_type": "stream",
     "text": [
      "Enter Gender (male/female):  male\n",
      "Enter Age:  25\n"
     ]
    },
    {
     "name": "stdout",
     "output_type": "stream",
     "text": [
      "Eligible for Marriage\n"
     ]
    }
   ],
   "source": [
    "#Create a function that tells elegibility of marriage for male and female according to their\n",
    "#age limit like 21 for male and in for female\n",
    "\n",
    "class ElegibilityForMarriage:\n",
    "    def Elegible(gender, age):\n",
    "        if gender.lower() == 'male':\n",
    "            if age >= 21:\n",
    "                return \"Eligible for Marriage\"\n",
    "            else:\n",
    "                return \"Not Eligible for Marriage\"\n",
    "        elif gender.lower() == 'female':\n",
    "            if age >= 21:\n",
    "                return \"Eligible for Marriage\"\n",
    "            else:\n",
    "                return \"Not Eligible for Marriage\"\n",
    "        else:\n",
    "            return \"Invalid Gender\"\n",
    "\n",
    "gender = input(\"Enter Gender (male/female): \")\n",
    "age = int(input(\"Enter Age: \"))\n",
    "print(ElegibilityForMarriage.Elegible(gender, age))\n"
   ]
  },
  {
   "cell_type": "code",
   "execution_count": 3,
   "id": "e0757e8f-871b-4e55-9e3e-ae6e2785f0b4",
   "metadata": {},
   "outputs": [],
   "source": [
    "#calculate the percentage of your 16th mark\n",
    "\n",
    "class FindPercent:\n",
    "    def percentage(self):\n",
    "        Subject1 = 98\n",
    "        Subject2 = 87\n",
    "        Subject3 = 95\n",
    "        Subject4 = 95\n",
    "        Subject5 = 93\n",
    "        \n",
    "        Total = Subject1 + Subject2 + Subject3 + Subject4 + Subject5\n",
    "        Percentage = (Total / 500) * 100\n",
    "        \n",
    "        print(f\"Subject1= {Subject1}\")\n",
    "        print(f\"Subject2= {Subject2}\")\n",
    "        print(f\"Subject3= {Subject3}\")\n",
    "        print(f\"Subject4= {Subject4}\")\n",
    "        print(f\"Subject5= {Subject5}\")\n",
    "        print(f\"Total: {Total}\")\n",
    "        print(f\"Percentage: {Percentage}\")"
   ]
  },
  {
   "cell_type": "code",
   "execution_count": 4,
   "id": "95c02546-8186-4dc9-b9e0-2a02b323eb0a",
   "metadata": {},
   "outputs": [
    {
     "name": "stdout",
     "output_type": "stream",
     "text": [
      "Subject1= 98\n",
      "Subject2= 87\n",
      "Subject3= 95\n",
      "Subject4= 95\n",
      "Subject5= 93\n",
      "Total: 468\n",
      "Percentage: 93.60000000000001\n"
     ]
    }
   ],
   "source": [
    "calc = FindPercent()\n",
    "calc.percentage()"
   ]
  },
  {
   "cell_type": "code",
   "execution_count": 5,
   "id": "d0c26af6-f851-4e2e-ad01-43fa5b3d0776",
   "metadata": {},
   "outputs": [],
   "source": [
    "#print area and perimeter of triangle using class and functions\n",
    "\n",
    "class Triangle:\n",
    "    def triangle(self):\n",
    "\n",
    "        Height = float(input(\"Height: \"))\n",
    "        Breadth = float(input(\"Breadth: \"))\n",
    "        Area = (Height * Breadth) / 2\n",
    "        print(f\"Area formula: (Height * Breadth) / 2\")\n",
    "        print(f\"Area of Triangle: {Area}\")\n",
    "        \n",
    "     \n",
    "        Height1 = float(input(\"Height1: \"))\n",
    "        Height2 = float(input(\"Height2: \"))\n",
    "        Breadth = float(input(\"Breadth: \"))\n",
    "        Perimeter = Height1 + Height2 + Breadth\n",
    "        print(f\"Perimeter formula: Height1 + Height2 + Breadth\")\n",
    "        print(f\"Perimeter of Triangle: {Perimeter}\")"
   ]
  },
  {
   "cell_type": "code",
   "execution_count": 6,
   "id": "60124e36-9b40-4161-82dd-c99324fec994",
   "metadata": {},
   "outputs": [
    {
     "name": "stdin",
     "output_type": "stream",
     "text": [
      "Height:  32\n",
      "Breadth:  34\n"
     ]
    },
    {
     "name": "stdout",
     "output_type": "stream",
     "text": [
      "Area formula: (Height * Breadth) / 2\n",
      "Area of Triangle: 544.0\n"
     ]
    },
    {
     "name": "stdin",
     "output_type": "stream",
     "text": [
      "Height1:  2\n",
      "Height2:  4\n",
      "Breadth:  4\n"
     ]
    },
    {
     "name": "stdout",
     "output_type": "stream",
     "text": [
      "Perimeter formula: Height1 + Height2 + Breadth\n",
      "Perimeter of Triangle: 10.0\n"
     ]
    }
   ],
   "source": [
    "triangle = Triangle()\n",
    "triangle.triangle()"
   ]
  },
  {
   "cell_type": "code",
   "execution_count": null,
   "id": "42686e35-c2ab-49f3-94ac-425491f359af",
   "metadata": {},
   "outputs": [],
   "source": []
  }
 ],
 "metadata": {
  "kernelspec": {
   "display_name": "Python 3 (ipykernel)",
   "language": "python",
   "name": "python3"
  },
  "language_info": {
   "codemirror_mode": {
    "name": "ipython",
    "version": 3
   },
   "file_extension": ".py",
   "mimetype": "text/x-python",
   "name": "python",
   "nbconvert_exporter": "python",
   "pygments_lexer": "ipython3",
   "version": "3.12.7"
  }
 },
 "nbformat": 4,
 "nbformat_minor": 5
}
