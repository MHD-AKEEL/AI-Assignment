{
 "cells": [
  {
   "cell_type": "code",
   "execution_count": 36,
   "id": "ec7db018-e0ff-4612-b316-c9959ac146de",
   "metadata": {},
   "outputs": [
    {
     "name": "stdout",
     "output_type": "stream",
     "text": [
      "value: 10\n",
      "Correct\n"
     ]
    }
   ],
   "source": [
    "i = 10\n",
    "if i == 10:\n",
    "    print(\"value:\", i)\n",
    "    print(\"Correct\")\n"
   ]
  },
  {
   "cell_type": "code",
   "execution_count": 37,
   "id": "b5a97089-e4d0-4a70-b764-bad64a59ccad",
   "metadata": {},
   "outputs": [
    {
     "name": "stdin",
     "output_type": "stream",
     "text": [
      "Enter the password: akee\n"
     ]
    },
    {
     "name": "stdout",
     "output_type": "stream",
     "text": [
      "Your password is wrong\n"
     ]
    }
   ],
   "source": [
    "correct_password = \"marstech@123\"\n",
    "password = input(\"Enter the password:\")\n",
    "\n",
    "if password == correct_password:\n",
    "    print(\"Your password is correct\")\n",
    "else:\n",
    "    print(\"Your password is wrong\")\n"
   ]
  },
  {
   "cell_type": "code",
   "execution_count": 38,
   "id": "1f06828d-d4bf-4531-8576-7cf52c58b814",
   "metadata": {},
   "outputs": [
    {
     "name": "stdin",
     "output_type": "stream",
     "text": [
      "Enter your Age: 25\n"
     ]
    },
    {
     "name": "stdout",
     "output_type": "stream",
     "text": [
      "Adult\n"
     ]
    }
   ],
   "source": [
    "age = int(input(\"Enter your Age:\"))\n",
    "\n",
    "if age < 0:\n",
    "    print(\"Invalid age\")\n",
    "elif age <= 18 and age > 0:\n",
    "    print(\"Children\")\n",
    "elif age <= 25 and age >= 19:\n",
    "    print(\"Adult\")\n",
    "elif age <= 35 and age >= 26:\n",
    "    print(\"Citizen\")\n",
    "else:\n",
    "    print(\"Senior Citizen\")\n",
    "\n"
   ]
  },
  {
   "cell_type": "code",
   "execution_count": 35,
   "id": "42f2494b-d9d2-4bcd-923c-eee4a08c9f25",
   "metadata": {},
   "outputs": [
    {
     "name": "stdin",
     "output_type": "stream",
     "text": [
      "Enter any number: -23\n"
     ]
    },
    {
     "name": "stdout",
     "output_type": "stream",
     "text": [
      "The number is Negative\n"
     ]
    }
   ],
   "source": [
    "number = float(input(\"Enter any number:\"))\n",
    "\n",
    "if number > 0:\n",
    "    print(\"The number is Positive\")\n",
    "elif number < 0:\n",
    "    print(\"The number is Negative\")\n",
    "else:\n",
    "    print(\"The number is Zero\")\n"
   ]
  },
  {
   "cell_type": "code",
   "execution_count": 47,
   "id": "e644015b-ba06-40f1-b641-67e780ccf807",
   "metadata": {},
   "outputs": [
    {
     "name": "stdin",
     "output_type": "stream",
     "text": [
      "Enter a number to check:  20\n"
     ]
    },
    {
     "name": "stdout",
     "output_type": "stream",
     "text": [
      "Yes, is divisible by5\n"
     ]
    }
   ],
   "source": [
    "number = int(input(\"Enter a number to check: \"))\n",
    "\n",
    "if number % 5 == 0:\n",
    "    print(\"Yes, is divisible by5\")\n",
    "else:\n",
    "    print(\"No, is not divisible by5\")\n"
   ]
  },
  {
   "cell_type": "code",
   "execution_count": null,
   "id": "486fd72a-e54a-4346-af3a-6bb083d7e9ca",
   "metadata": {},
   "outputs": [],
   "source": []
  }
 ],
 "metadata": {
  "kernelspec": {
   "display_name": "Python 3 (ipykernel)",
   "language": "python",
   "name": "python3"
  },
  "language_info": {
   "codemirror_mode": {
    "name": "ipython",
    "version": 3
   },
   "file_extension": ".py",
   "mimetype": "text/x-python",
   "name": "python",
   "nbconvert_exporter": "python",
   "pygments_lexer": "ipython3",
   "version": "3.12.7"
  }
 },
 "nbformat": 4,
 "nbformat_minor": 5
}
