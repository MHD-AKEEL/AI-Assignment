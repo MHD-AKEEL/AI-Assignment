{
 "cells": [
  {
   "cell_type": "code",
   "execution_count": 1,
   "id": "0d4ad8eb-84de-414c-8544-a91a1b78133f",
   "metadata": {},
   "outputs": [
    {
     "name": "stdout",
     "output_type": "stream",
     "text": [
      "Welcome to Assignment-1\n"
     ]
    }
   ],
   "source": [
    "print(\"Welcome to Assignment-1 AKEEL\")"
   ]
  },
  {
   "cell_type": "code",
   "execution_count": 18,
   "id": "e9561e9f-5931-4ea7-b363-4d3445546947",
   "metadata": {},
   "outputs": [
    {
     "name": "stdout",
     "output_type": "stream",
     "text": [
      "Num1= 10\n",
      "Num2= 30\n",
      "Add= 40\n"
     ]
    }
   ],
   "source": [
    "Num1=10\n",
    "Num2=30\n",
    "Add=Num1+Num2\n",
    "print(\"Num1=\",Num1)\n",
    "print(\"Num2=\",Num2)\n",
    "print(\"Add=\",Add)"
   ]
  },
  {
   "cell_type": "code",
   "execution_count": 64,
   "id": "c18557c1-225f-4462-9e74-b354b0c6c916",
   "metadata": {},
   "outputs": [
    {
     "name": "stdin",
     "output_type": "stream",
     "text": [
      "Enter the BMI index: 8\n"
     ]
    },
    {
     "name": "stdout",
     "output_type": "stream",
     "text": [
      "Several Thinness\n"
     ]
    }
   ],
   "source": [
    "weight=float(input(\"Enter the BMI index:\"))\n",
    "BMI=weight\n",
    "\n",
    "if BMI<=16:\n",
    "    print(\"Several Thinness\")\n",
    "elif BMI>16 and BMI<=18:\n",
    "    print(\"Mild Thinness\")\n",
    "elif BMI>18 and BMI<=25:\n",
    "    print(\"Normal\")\n",
    "elif BMI>25 and BMI<=30:\n",
    "    print(\"Overweight\")\n",
    "elif BMI>30 and BMI<=35:\n",
    "    print(\"Obese Class 01\")\n",
    "elif BMI>35 and BMI<=40:\n",
    "    print(\"Obese Class 02\")\n",
    "else:\n",
    "    print(\"Obese Class 03\")\n"
   ]
  },
  {
   "cell_type": "code",
   "execution_count": null,
   "id": "02d253bb-f8f2-491b-8b01-553ad6f324f3",
   "metadata": {},
   "outputs": [],
   "source": []
  }
 ],
 "metadata": {
  "kernelspec": {
   "display_name": "Python 3 (ipykernel)",
   "language": "python",
   "name": "python3"
  },
  "language_info": {
   "codemirror_mode": {
    "name": "ipython",
    "version": 3
   },
   "file_extension": ".py",
   "mimetype": "text/x-python",
   "name": "python",
   "nbconvert_exporter": "python",
   "pygments_lexer": "ipython3",
   "version": "3.12.7"
  }
 },
 "nbformat": 4,
 "nbformat_minor": 5
}
